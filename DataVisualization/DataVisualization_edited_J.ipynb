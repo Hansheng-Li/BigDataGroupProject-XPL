{
 "cells": [
  {
   "cell_type": "code",
   "execution_count": 1,
   "metadata": {},
   "outputs": [],
   "source": [
    "import pandas as pd\n",
    "import matplotlib.pyplot as plt\n",
    "import numpy as np\n",
    "import seaborn as sns\n",
    "import matplotlib.dates as mdates\n",
    "import os\n",
    "from IPython.display import display, HTML"
   ]
  },
  {
   "cell_type": "markdown",
   "metadata": {},
   "source": [
    "## Data Loading"
   ]
  },
  {
   "cell_type": "code",
   "execution_count": 2,
   "metadata": {},
   "outputs": [],
   "source": [
    "## personal saving - comparison\n",
    "## unemploy rate - year\n",
    "## NAQ & SP500 & DOW - year\n",
    "## Mortgage - year"
   ]
  },
  {
   "cell_type": "code",
   "execution_count": 3,
   "metadata": {},
   "outputs": [],
   "source": [
    "path = os.path.dirname(os.getcwd())+'/dataset/'"
   ]
  },
  {
   "cell_type": "code",
   "execution_count": 4,
   "metadata": {},
   "outputs": [],
   "source": [
    "df_personal_saving = pd.read_csv(path + \"personal_saving.csv\")\n",
    "df_unemploy = pd.read_csv(path + \"unemploy.csv\")\n",
    "# df_mortgage = pd.read_csv(path + \"State_Level_Mortgage_Performance_Statistics.csv\")\n",
    "\n",
    "df_NASDAQ = pd.read_csv(path+\"NASDAQ.csv\")\n",
    "df_DOW = pd.read_csv(path+\"DOW.csv\")\n",
    "df_SP500 = pd.read_csv(path+\"SP500.csv\")"
   ]
  },
  {
   "cell_type": "code",
   "execution_count": 5,
   "metadata": {},
   "outputs": [
    {
     "data": {
      "text/html": [
       "<div>\n",
       "<style scoped>\n",
       "    .dataframe tbody tr th:only-of-type {\n",
       "        vertical-align: middle;\n",
       "    }\n",
       "\n",
       "    .dataframe tbody tr th {\n",
       "        vertical-align: top;\n",
       "    }\n",
       "\n",
       "    .dataframe thead th {\n",
       "        text-align: right;\n",
       "    }\n",
       "</style>\n",
       "<table border=\"1\" class=\"dataframe\">\n",
       "  <thead>\n",
       "    <tr style=\"text-align: right;\">\n",
       "      <th></th>\n",
       "      <th>DATE</th>\n",
       "      <th>PSAVERT</th>\n",
       "    </tr>\n",
       "  </thead>\n",
       "  <tbody>\n",
       "    <tr>\n",
       "      <th>0</th>\n",
       "      <td>2019-01-01</td>\n",
       "      <td>8.5</td>\n",
       "    </tr>\n",
       "    <tr>\n",
       "      <th>1</th>\n",
       "      <td>2019-02-01</td>\n",
       "      <td>8.6</td>\n",
       "    </tr>\n",
       "    <tr>\n",
       "      <th>2</th>\n",
       "      <td>2019-03-01</td>\n",
       "      <td>8.0</td>\n",
       "    </tr>\n",
       "    <tr>\n",
       "      <th>3</th>\n",
       "      <td>2019-04-01</td>\n",
       "      <td>7.5</td>\n",
       "    </tr>\n",
       "    <tr>\n",
       "      <th>4</th>\n",
       "      <td>2019-05-01</td>\n",
       "      <td>7.3</td>\n",
       "    </tr>\n",
       "  </tbody>\n",
       "</table>\n",
       "</div>"
      ],
      "text/plain": [
       "         DATE  PSAVERT\n",
       "0  2019-01-01      8.5\n",
       "1  2019-02-01      8.6\n",
       "2  2019-03-01      8.0\n",
       "3  2019-04-01      7.5\n",
       "4  2019-05-01      7.3"
      ]
     },
     "execution_count": 5,
     "metadata": {},
     "output_type": "execute_result"
    }
   ],
   "source": [
    "df_personal_saving.head()"
   ]
  },
  {
   "cell_type": "code",
   "execution_count": 6,
   "metadata": {},
   "outputs": [
    {
     "data": {
      "text/html": [
       "<div>\n",
       "<style scoped>\n",
       "    .dataframe tbody tr th:only-of-type {\n",
       "        vertical-align: middle;\n",
       "    }\n",
       "\n",
       "    .dataframe tbody tr th {\n",
       "        vertical-align: top;\n",
       "    }\n",
       "\n",
       "    .dataframe thead th {\n",
       "        text-align: right;\n",
       "    }\n",
       "</style>\n",
       "<table border=\"1\" class=\"dataframe\">\n",
       "  <thead>\n",
       "    <tr style=\"text-align: right;\">\n",
       "      <th></th>\n",
       "      <th>State</th>\n",
       "      <th>Filed week ended</th>\n",
       "      <th>Initial Claims</th>\n",
       "      <th>Reflecting Week Ended</th>\n",
       "      <th>Continued Claims</th>\n",
       "      <th>Covered Employment</th>\n",
       "      <th>Insured Unemployment Rate</th>\n",
       "    </tr>\n",
       "  </thead>\n",
       "  <tbody>\n",
       "    <tr>\n",
       "      <th>0</th>\n",
       "      <td>Alabama</td>\n",
       "      <td>1/4/2020</td>\n",
       "      <td>4,578</td>\n",
       "      <td>12/28/2019</td>\n",
       "      <td>18,523</td>\n",
       "      <td>1,923,741</td>\n",
       "      <td>0.96</td>\n",
       "    </tr>\n",
       "    <tr>\n",
       "      <th>1</th>\n",
       "      <td>Alabama</td>\n",
       "      <td>1/11/2020</td>\n",
       "      <td>3,629</td>\n",
       "      <td>1/4/2020</td>\n",
       "      <td>21,143</td>\n",
       "      <td>1,923,741</td>\n",
       "      <td>1.10</td>\n",
       "    </tr>\n",
       "    <tr>\n",
       "      <th>2</th>\n",
       "      <td>Alabama</td>\n",
       "      <td>1/18/2020</td>\n",
       "      <td>2,483</td>\n",
       "      <td>1/11/2020</td>\n",
       "      <td>17,402</td>\n",
       "      <td>1,923,741</td>\n",
       "      <td>0.90</td>\n",
       "    </tr>\n",
       "    <tr>\n",
       "      <th>3</th>\n",
       "      <td>Alabama</td>\n",
       "      <td>1/25/2020</td>\n",
       "      <td>2,129</td>\n",
       "      <td>1/18/2020</td>\n",
       "      <td>18,390</td>\n",
       "      <td>1,923,741</td>\n",
       "      <td>0.96</td>\n",
       "    </tr>\n",
       "    <tr>\n",
       "      <th>4</th>\n",
       "      <td>Alabama</td>\n",
       "      <td>2/1/2020</td>\n",
       "      <td>2,170</td>\n",
       "      <td>1/25/2020</td>\n",
       "      <td>17,284</td>\n",
       "      <td>1,923,741</td>\n",
       "      <td>0.90</td>\n",
       "    </tr>\n",
       "  </tbody>\n",
       "</table>\n",
       "</div>"
      ],
      "text/plain": [
       "     State Filed week ended Initial Claims Reflecting Week Ended  \\\n",
       "0  Alabama         1/4/2020          4,578            12/28/2019   \n",
       "1  Alabama        1/11/2020          3,629              1/4/2020   \n",
       "2  Alabama        1/18/2020          2,483             1/11/2020   \n",
       "3  Alabama        1/25/2020          2,129             1/18/2020   \n",
       "4  Alabama         2/1/2020          2,170             1/25/2020   \n",
       "\n",
       "  Continued Claims Covered Employment  Insured Unemployment Rate  \n",
       "0           18,523          1,923,741                       0.96  \n",
       "1           21,143          1,923,741                       1.10  \n",
       "2           17,402          1,923,741                       0.90  \n",
       "3           18,390          1,923,741                       0.96  \n",
       "4           17,284          1,923,741                       0.90  "
      ]
     },
     "execution_count": 6,
     "metadata": {},
     "output_type": "execute_result"
    }
   ],
   "source": [
    "df_unemploy.head()"
   ]
  },
  {
   "cell_type": "code",
   "execution_count": 7,
   "metadata": {},
   "outputs": [
    {
     "data": {
      "text/html": [
       "<div>\n",
       "<style scoped>\n",
       "    .dataframe tbody tr th:only-of-type {\n",
       "        vertical-align: middle;\n",
       "    }\n",
       "\n",
       "    .dataframe tbody tr th {\n",
       "        vertical-align: top;\n",
       "    }\n",
       "\n",
       "    .dataframe thead th {\n",
       "        text-align: right;\n",
       "    }\n",
       "</style>\n",
       "<table border=\"1\" class=\"dataframe\">\n",
       "  <thead>\n",
       "    <tr style=\"text-align: right;\">\n",
       "      <th></th>\n",
       "      <th>DATE</th>\n",
       "      <th>NASDAQCOM</th>\n",
       "    </tr>\n",
       "  </thead>\n",
       "  <tbody>\n",
       "    <tr>\n",
       "      <th>0</th>\n",
       "      <td>2016-03-29</td>\n",
       "      <td>4846.62</td>\n",
       "    </tr>\n",
       "    <tr>\n",
       "      <th>1</th>\n",
       "      <td>2016-03-30</td>\n",
       "      <td>4869.29</td>\n",
       "    </tr>\n",
       "    <tr>\n",
       "      <th>2</th>\n",
       "      <td>2016-03-31</td>\n",
       "      <td>4869.85</td>\n",
       "    </tr>\n",
       "    <tr>\n",
       "      <th>3</th>\n",
       "      <td>2016-04-01</td>\n",
       "      <td>4914.54</td>\n",
       "    </tr>\n",
       "    <tr>\n",
       "      <th>4</th>\n",
       "      <td>2016-04-04</td>\n",
       "      <td>4891.80</td>\n",
       "    </tr>\n",
       "  </tbody>\n",
       "</table>\n",
       "</div>"
      ],
      "text/plain": [
       "         DATE NASDAQCOM\n",
       "0  2016-03-29   4846.62\n",
       "1  2016-03-30   4869.29\n",
       "2  2016-03-31   4869.85\n",
       "3  2016-04-01   4914.54\n",
       "4  2016-04-04   4891.80"
      ]
     },
     "execution_count": 7,
     "metadata": {},
     "output_type": "execute_result"
    }
   ],
   "source": [
    "df_NASDAQ.head()"
   ]
  },
  {
   "cell_type": "code",
   "execution_count": 8,
   "metadata": {},
   "outputs": [
    {
     "data": {
      "text/html": [
       "<div>\n",
       "<style scoped>\n",
       "    .dataframe tbody tr th:only-of-type {\n",
       "        vertical-align: middle;\n",
       "    }\n",
       "\n",
       "    .dataframe tbody tr th {\n",
       "        vertical-align: top;\n",
       "    }\n",
       "\n",
       "    .dataframe thead th {\n",
       "        text-align: right;\n",
       "    }\n",
       "</style>\n",
       "<table border=\"1\" class=\"dataframe\">\n",
       "  <thead>\n",
       "    <tr style=\"text-align: right;\">\n",
       "      <th></th>\n",
       "      <th>DATE</th>\n",
       "      <th>DJIA</th>\n",
       "    </tr>\n",
       "  </thead>\n",
       "  <tbody>\n",
       "    <tr>\n",
       "      <th>0</th>\n",
       "      <td>2016-03-30</td>\n",
       "      <td>17716.66</td>\n",
       "    </tr>\n",
       "    <tr>\n",
       "      <th>1</th>\n",
       "      <td>2016-03-31</td>\n",
       "      <td>17685.09</td>\n",
       "    </tr>\n",
       "    <tr>\n",
       "      <th>2</th>\n",
       "      <td>2016-04-01</td>\n",
       "      <td>17792.75</td>\n",
       "    </tr>\n",
       "    <tr>\n",
       "      <th>3</th>\n",
       "      <td>2016-04-04</td>\n",
       "      <td>17737.00</td>\n",
       "    </tr>\n",
       "    <tr>\n",
       "      <th>4</th>\n",
       "      <td>2016-04-05</td>\n",
       "      <td>17603.32</td>\n",
       "    </tr>\n",
       "  </tbody>\n",
       "</table>\n",
       "</div>"
      ],
      "text/plain": [
       "         DATE      DJIA\n",
       "0  2016-03-30  17716.66\n",
       "1  2016-03-31  17685.09\n",
       "2  2016-04-01  17792.75\n",
       "3  2016-04-04  17737.00\n",
       "4  2016-04-05  17603.32"
      ]
     },
     "execution_count": 8,
     "metadata": {},
     "output_type": "execute_result"
    }
   ],
   "source": [
    "df_DOW.head()"
   ]
  },
  {
   "cell_type": "code",
   "execution_count": 9,
   "metadata": {},
   "outputs": [
    {
     "data": {
      "text/html": [
       "<div>\n",
       "<style scoped>\n",
       "    .dataframe tbody tr th:only-of-type {\n",
       "        vertical-align: middle;\n",
       "    }\n",
       "\n",
       "    .dataframe tbody tr th {\n",
       "        vertical-align: top;\n",
       "    }\n",
       "\n",
       "    .dataframe thead th {\n",
       "        text-align: right;\n",
       "    }\n",
       "</style>\n",
       "<table border=\"1\" class=\"dataframe\">\n",
       "  <thead>\n",
       "    <tr style=\"text-align: right;\">\n",
       "      <th></th>\n",
       "      <th>DATE</th>\n",
       "      <th>SP500</th>\n",
       "    </tr>\n",
       "  </thead>\n",
       "  <tbody>\n",
       "    <tr>\n",
       "      <th>0</th>\n",
       "      <td>2016-03-30</td>\n",
       "      <td>2063.95</td>\n",
       "    </tr>\n",
       "    <tr>\n",
       "      <th>1</th>\n",
       "      <td>2016-03-31</td>\n",
       "      <td>2059.74</td>\n",
       "    </tr>\n",
       "    <tr>\n",
       "      <th>2</th>\n",
       "      <td>2016-04-01</td>\n",
       "      <td>2072.78</td>\n",
       "    </tr>\n",
       "    <tr>\n",
       "      <th>3</th>\n",
       "      <td>2016-04-04</td>\n",
       "      <td>2066.13</td>\n",
       "    </tr>\n",
       "    <tr>\n",
       "      <th>4</th>\n",
       "      <td>2016-04-05</td>\n",
       "      <td>2045.17</td>\n",
       "    </tr>\n",
       "  </tbody>\n",
       "</table>\n",
       "</div>"
      ],
      "text/plain": [
       "         DATE    SP500\n",
       "0  2016-03-30  2063.95\n",
       "1  2016-03-31  2059.74\n",
       "2  2016-04-01  2072.78\n",
       "3  2016-04-04  2066.13\n",
       "4  2016-04-05  2045.17"
      ]
     },
     "execution_count": 9,
     "metadata": {},
     "output_type": "execute_result"
    }
   ],
   "source": [
    "df_SP500.head()"
   ]
  },
  {
   "cell_type": "markdown",
   "metadata": {},
   "source": [
    "### Data Manipulation - Cleaning, Reformat, Grouping"
   ]
  },
  {
   "cell_type": "markdown",
   "metadata": {},
   "source": [
    "#### 1. Convert Date format"
   ]
  },
  {
   "cell_type": "markdown",
   "metadata": {},
   "source": [
    "#### Personal Saving"
   ]
  },
  {
   "cell_type": "code",
   "execution_count": 10,
   "metadata": {},
   "outputs": [],
   "source": [
    "df_personal_saving[\"DATE\"] = pd.to_datetime(df_personal_saving[\"DATE\"], format=\"%Y-%m-%d\")"
   ]
  },
  {
   "cell_type": "code",
   "execution_count": 11,
   "metadata": {},
   "outputs": [],
   "source": [
    "df_personal_saving_groupbyYear = df_personal_saving.groupby(df_personal_saving['DATE'].map(lambda x: x.year))"
   ]
  },
  {
   "cell_type": "code",
   "execution_count": 12,
   "metadata": {
    "scrolled": true
   },
   "outputs": [
    {
     "name": "stderr",
     "output_type": "stream",
     "text": [
      "/Users/J.P./anaconda3/lib/python3.7/site-packages/ipykernel_launcher.py:2: UserWarning: To output multiple subplots, the figure containing the passed axes is being cleared\n",
      "  \n"
     ]
    },
    {
     "data": {
      "text/plain": [
       "2019         AxesSubplot(0.1,0.559091;0.363636x0.340909)\n",
       "2020    AxesSubplot(0.536364,0.559091;0.363636x0.340909)\n",
       "2021             AxesSubplot(0.1,0.15;0.363636x0.340909)\n",
       "dtype: object"
      ]
     },
     "execution_count": 12,
     "metadata": {},
     "output_type": "execute_result"
    },
    {
     "data": {
      "image/png": "[encoded data removed]",
      "text/plain": [
       "<Figure size 720x504 with 4 Axes>"
      ]
     },
     "metadata": {
      "needs_background": "light"
     },
     "output_type": "display_data"
    }
   ],
   "source": [
    "fig, ax = plt.subplots(figsize=(10, 7))\n",
    "df_personal_saving_groupbyYear.boxplot(ax = ax)"
   ]
  },
  {
   "cell_type": "markdown",
   "metadata": {},
   "source": [
    "#### Add peak point value in plot"
   ]
  },
  {
   "cell_type": "code",
   "execution_count": 15,
   "metadata": {},
   "outputs": [
    {
     "data": {
      "image/png": "[encoded data removed]",
      "text/plain": [
       "<Figure size 1080x360 with 1 Axes>"
      ]
     },
     "metadata": {
      "needs_background": "light"
     },
     "output_type": "display_data"
    }
   ],
   "source": [
    "fig2, ax2 = plt.subplots(figsize=(15, 5))\n",
    "sns.lineplot(x=\"DATE\",y=\"PSAVERT\", data=df_personal_saving, color=\"#FFB833\", ax=ax2)\n",
    "\n",
    "for _row in df_personal_saving.index:\n",
    "    ax2.text(df_personal_saving.iloc[_row].DATE, \n",
    "             df_personal_saving.iloc[_row].PSAVERT + 0.5, \n",
    "             df_personal_saving.iloc[_row].PSAVERT, color=\"m\")"
   ]
  },
  {
   "cell_type": "markdown",
   "metadata": {},
   "source": [
    "#### USA - Unemployment"
   ]
  },
  {
   "cell_type": "code",
   "execution_count": 16,
   "metadata": {},
   "outputs": [],
   "source": [
    "df_unemploy_USA = pd.read_excel(path + \"UNRATE.xls\")\n",
    "df_unemploy_USA = df_unemploy_USA[df_unemploy_USA.observation_date.dt.year>=2019].reset_index()"
   ]
  },
  {
   "cell_type": "code",
   "execution_count": 17,
   "metadata": {},
   "outputs": [
    {
     "data": {
      "text/html": [
       "<div>\n",
       "<style scoped>\n",
       "    .dataframe tbody tr th:only-of-type {\n",
       "        vertical-align: middle;\n",
       "    }\n",
       "\n",
       "    .dataframe tbody tr th {\n",
       "        vertical-align: top;\n",
       "    }\n",
       "\n",
       "    .dataframe thead th {\n",
       "        text-align: right;\n",
       "    }\n",
       "</style>\n",
       "<table border=\"1\" class=\"dataframe\">\n",
       "  <thead>\n",
       "    <tr style=\"text-align: right;\">\n",
       "      <th></th>\n",
       "      <th>index</th>\n",
       "      <th>observation_date</th>\n",
       "      <th>UNRATE</th>\n",
       "    </tr>\n",
       "  </thead>\n",
       "  <tbody>\n",
       "    <tr>\n",
       "      <th>0</th>\n",
       "      <td>34</td>\n",
       "      <td>2019-01-01</td>\n",
       "      <td>4.0</td>\n",
       "    </tr>\n",
       "    <tr>\n",
       "      <th>1</th>\n",
       "      <td>35</td>\n",
       "      <td>2019-02-01</td>\n",
       "      <td>3.8</td>\n",
       "    </tr>\n",
       "    <tr>\n",
       "      <th>2</th>\n",
       "      <td>36</td>\n",
       "      <td>2019-03-01</td>\n",
       "      <td>3.8</td>\n",
       "    </tr>\n",
       "    <tr>\n",
       "      <th>3</th>\n",
       "      <td>37</td>\n",
       "      <td>2019-04-01</td>\n",
       "      <td>3.7</td>\n",
       "    </tr>\n",
       "    <tr>\n",
       "      <th>4</th>\n",
       "      <td>38</td>\n",
       "      <td>2019-05-01</td>\n",
       "      <td>3.7</td>\n",
       "    </tr>\n",
       "  </tbody>\n",
       "</table>\n",
       "</div>"
      ],
      "text/plain": [
       "   index observation_date  UNRATE\n",
       "0     34       2019-01-01     4.0\n",
       "1     35       2019-02-01     3.8\n",
       "2     36       2019-03-01     3.8\n",
       "3     37       2019-04-01     3.7\n",
       "4     38       2019-05-01     3.7"
      ]
     },
     "execution_count": 17,
     "metadata": {},
     "output_type": "execute_result"
    }
   ],
   "source": [
    "df_unemploy_USA.head()"
   ]
  },
  {
   "cell_type": "code",
   "execution_count": 18,
   "metadata": {},
   "outputs": [
    {
     "data": {
      "image/png": "[encoded data removed]",
      "text/plain": [
       "<Figure size 1080x432 with 1 Axes>"
      ]
     },
     "metadata": {
      "needs_background": "light"
     },
     "output_type": "display_data"
    }
   ],
   "source": [
    "fig, ax3 = plt.subplots(figsize=(15, 6))\n",
    "\n",
    "sns.lineplot(x=\"observation_date\",y=\"UNRATE\", data=df_unemploy_USA, color=\"#FFB833\", ax=ax3)\n",
    "for _row in df_unemploy_USA.index:\n",
    "    ax3.text(df_unemploy_USA.iloc[_row].observation_date, \n",
    "             df_unemploy_USA.iloc[_row].UNRATE + 0.1, \n",
    "             df_unemploy_USA.iloc[_row].UNRATE, color=\"r\")"
   ]
  },
  {
   "cell_type": "markdown",
   "metadata": {},
   "source": [
    "#### Each State - Employment"
   ]
  },
  {
   "cell_type": "code",
   "execution_count": 19,
   "metadata": {},
   "outputs": [],
   "source": [
    "## Data cleaning and reformat\n",
    "def clean_num(row):\n",
    "    row = row.replace(\",\", \"\")\n",
    "    return row\n",
    "\n",
    "df_unemploy[\"Initial Claims\"] = df_unemploy[\"Initial Claims\"].map(clean_num)\n",
    "df_unemploy[\"Continued Claims\"] = df_unemploy[\"Continued Claims\"].map(clean_num)\n",
    "df_unemploy[\"Covered Employment\"] = df_unemploy[\"Covered Employment\"].map(clean_num)"
   ]
  },
  {
   "cell_type": "code",
   "execution_count": 20,
   "metadata": {},
   "outputs": [],
   "source": [
    "State_List = df_unemploy.State.unique()\n",
    "\n",
    "## Date\n",
    "df_unemploy[\"Filed week ended\"] = pd.to_datetime(df_unemploy[\"Filed week ended\"])\n",
    "df_unemploy[\"Reflecting Week Ended\"] = pd.to_datetime(df_unemploy[\"Reflecting Week Ended\"])\n",
    "\n",
    "## Numeric\n",
    "df_unemploy[\"Covered Employment\"] = pd.to_numeric(df_unemploy[\"Covered Employment\"])\n",
    "df_unemploy[\"Insured Unemployment Rate\"] = pd.to_numeric(df_unemploy[\"Insured Unemployment Rate\"])\n",
    "\n",
    "df_unemploy[\"Initial Claims\"] = pd.to_numeric(df_unemploy[\"Initial Claims\"])\n",
    "df_unemploy[\"Continued Claims\"] = pd.to_numeric(df_unemploy[\"Continued Claims\"])"
   ]
  },
  {
   "cell_type": "code",
   "execution_count": 21,
   "metadata": {},
   "outputs": [
    {
     "data": {
      "text/html": [
       "<div>\n",
       "<style scoped>\n",
       "    .dataframe tbody tr th:only-of-type {\n",
       "        vertical-align: middle;\n",
       "    }\n",
       "\n",
       "    .dataframe tbody tr th {\n",
       "        vertical-align: top;\n",
       "    }\n",
       "\n",
       "    .dataframe thead th {\n",
       "        text-align: right;\n",
       "    }\n",
       "</style>\n",
       "<table border=\"1\" class=\"dataframe\">\n",
       "  <thead>\n",
       "    <tr style=\"text-align: right;\">\n",
       "      <th></th>\n",
       "      <th>State</th>\n",
       "      <th>Filed week ended</th>\n",
       "      <th>Initial Claims</th>\n",
       "      <th>Reflecting Week Ended</th>\n",
       "      <th>Continued Claims</th>\n",
       "      <th>Covered Employment</th>\n",
       "      <th>Insured Unemployment Rate</th>\n",
       "    </tr>\n",
       "  </thead>\n",
       "  <tbody>\n",
       "    <tr>\n",
       "      <th>0</th>\n",
       "      <td>Alabama</td>\n",
       "      <td>2020-01-04</td>\n",
       "      <td>4578</td>\n",
       "      <td>2019-12-28</td>\n",
       "      <td>18523</td>\n",
       "      <td>1923741</td>\n",
       "      <td>0.96</td>\n",
       "    </tr>\n",
       "    <tr>\n",
       "      <th>1</th>\n",
       "      <td>Alabama</td>\n",
       "      <td>2020-01-11</td>\n",
       "      <td>3629</td>\n",
       "      <td>2020-01-04</td>\n",
       "      <td>21143</td>\n",
       "      <td>1923741</td>\n",
       "      <td>1.10</td>\n",
       "    </tr>\n",
       "    <tr>\n",
       "      <th>2</th>\n",
       "      <td>Alabama</td>\n",
       "      <td>2020-01-18</td>\n",
       "      <td>2483</td>\n",
       "      <td>2020-01-11</td>\n",
       "      <td>17402</td>\n",
       "      <td>1923741</td>\n",
       "      <td>0.90</td>\n",
       "    </tr>\n",
       "    <tr>\n",
       "      <th>3</th>\n",
       "      <td>Alabama</td>\n",
       "      <td>2020-01-25</td>\n",
       "      <td>2129</td>\n",
       "      <td>2020-01-18</td>\n",
       "      <td>18390</td>\n",
       "      <td>1923741</td>\n",
       "      <td>0.96</td>\n",
       "    </tr>\n",
       "    <tr>\n",
       "      <th>4</th>\n",
       "      <td>Alabama</td>\n",
       "      <td>2020-02-01</td>\n",
       "      <td>2170</td>\n",
       "      <td>2020-01-25</td>\n",
       "      <td>17284</td>\n",
       "      <td>1923741</td>\n",
       "      <td>0.90</td>\n",
       "    </tr>\n",
       "  </tbody>\n",
       "</table>\n",
       "</div>"
      ],
      "text/plain": [
       "     State Filed week ended  Initial Claims Reflecting Week Ended  \\\n",
       "0  Alabama       2020-01-04            4578            2019-12-28   \n",
       "1  Alabama       2020-01-11            3629            2020-01-04   \n",
       "2  Alabama       2020-01-18            2483            2020-01-11   \n",
       "3  Alabama       2020-01-25            2129            2020-01-18   \n",
       "4  Alabama       2020-02-01            2170            2020-01-25   \n",
       "\n",
       "   Continued Claims  Covered Employment  Insured Unemployment Rate  \n",
       "0             18523             1923741                       0.96  \n",
       "1             21143             1923741                       1.10  \n",
       "2             17402             1923741                       0.90  \n",
       "3             18390             1923741                       0.96  \n",
       "4             17284             1923741                       0.90  "
      ]
     },
     "execution_count": 21,
     "metadata": {},
     "output_type": "execute_result"
    }
   ],
   "source": [
    "df_unemploy.head()"
   ]
  },
  {
   "cell_type": "code",
   "execution_count": 22,
   "metadata": {},
   "outputs": [],
   "source": [
    "df_unemploy['Claims'] = df_unemploy[\"Initial Claims\"]+df_unemploy[\"Continued Claims\"]"
   ]
  },
  {
   "cell_type": "code",
   "execution_count": 23,
   "metadata": {},
   "outputs": [],
   "source": [
    "df_unemploy=df_unemploy[['State','Filed week ended','Insured Unemployment Rate','Claims']]"
   ]
  },
  {
   "cell_type": "code",
   "execution_count": 24,
   "metadata": {},
   "outputs": [
    {
     "data": {
      "text/html": [
       "<div>\n",
       "<style scoped>\n",
       "    .dataframe tbody tr th:only-of-type {\n",
       "        vertical-align: middle;\n",
       "    }\n",
       "\n",
       "    .dataframe tbody tr th {\n",
       "        vertical-align: top;\n",
       "    }\n",
       "\n",
       "    .dataframe thead th {\n",
       "        text-align: right;\n",
       "    }\n",
       "</style>\n",
       "<table border=\"1\" class=\"dataframe\">\n",
       "  <thead>\n",
       "    <tr style=\"text-align: right;\">\n",
       "      <th></th>\n",
       "      <th>State</th>\n",
       "      <th>Filed week ended</th>\n",
       "      <th>Insured Unemployment Rate</th>\n",
       "      <th>Claims</th>\n",
       "    </tr>\n",
       "  </thead>\n",
       "  <tbody>\n",
       "    <tr>\n",
       "      <th>0</th>\n",
       "      <td>Alabama</td>\n",
       "      <td>2020-01-04</td>\n",
       "      <td>0.96</td>\n",
       "      <td>23101</td>\n",
       "    </tr>\n",
       "    <tr>\n",
       "      <th>1</th>\n",
       "      <td>Alabama</td>\n",
       "      <td>2020-01-11</td>\n",
       "      <td>1.10</td>\n",
       "      <td>24772</td>\n",
       "    </tr>\n",
       "    <tr>\n",
       "      <th>2</th>\n",
       "      <td>Alabama</td>\n",
       "      <td>2020-01-18</td>\n",
       "      <td>0.90</td>\n",
       "      <td>19885</td>\n",
       "    </tr>\n",
       "    <tr>\n",
       "      <th>3</th>\n",
       "      <td>Alabama</td>\n",
       "      <td>2020-01-25</td>\n",
       "      <td>0.96</td>\n",
       "      <td>20519</td>\n",
       "    </tr>\n",
       "    <tr>\n",
       "      <th>4</th>\n",
       "      <td>Alabama</td>\n",
       "      <td>2020-02-01</td>\n",
       "      <td>0.90</td>\n",
       "      <td>19454</td>\n",
       "    </tr>\n",
       "  </tbody>\n",
       "</table>\n",
       "</div>"
      ],
      "text/plain": [
       "     State Filed week ended  Insured Unemployment Rate  Claims\n",
       "0  Alabama       2020-01-04                       0.96   23101\n",
       "1  Alabama       2020-01-11                       1.10   24772\n",
       "2  Alabama       2020-01-18                       0.90   19885\n",
       "3  Alabama       2020-01-25                       0.96   20519\n",
       "4  Alabama       2020-02-01                       0.90   19454"
      ]
     },
     "execution_count": 24,
     "metadata": {},
     "output_type": "execute_result"
    }
   ],
   "source": [
    "df_unemploy.head()"
   ]
  },
  {
   "cell_type": "code",
   "execution_count": 25,
   "metadata": {},
   "outputs": [],
   "source": [
    "df_unemploy[\"Filed week ended\"]=df_unemploy[\"Filed week ended\"].dt.to_period('m')"
   ]
  },
  {
   "cell_type": "code",
   "execution_count": 26,
   "metadata": {},
   "outputs": [],
   "source": [
    "df_unemploy=df_unemploy.groupby(['State', 'Filed week ended'], as_index=False).mean()[['State', 'Filed week ended', 'Insured Unemployment Rate', 'Claims']]"
   ]
  },
  {
   "cell_type": "code",
   "execution_count": 27,
   "metadata": {
    "scrolled": false
   },
   "outputs": [],
   "source": [
    "df_unemploy=df_unemploy.round({'Insured Unemployment Rate': 2, 'Claims': 0})"
   ]
  },
  {
   "cell_type": "code",
   "execution_count": 28,
   "metadata": {},
   "outputs": [
    {
     "data": {
      "text/html": [
       "<div>\n",
       "<style scoped>\n",
       "    .dataframe tbody tr th:only-of-type {\n",
       "        vertical-align: middle;\n",
       "    }\n",
       "\n",
       "    .dataframe tbody tr th {\n",
       "        vertical-align: top;\n",
       "    }\n",
       "\n",
       "    .dataframe thead th {\n",
       "        text-align: right;\n",
       "    }\n",
       "</style>\n",
       "<table border=\"1\" class=\"dataframe\">\n",
       "  <thead>\n",
       "    <tr style=\"text-align: right;\">\n",
       "      <th></th>\n",
       "      <th>State</th>\n",
       "      <th>Filed week ended</th>\n",
       "      <th>Insured Unemployment Rate</th>\n",
       "      <th>Claims</th>\n",
       "    </tr>\n",
       "  </thead>\n",
       "  <tbody>\n",
       "    <tr>\n",
       "      <th>0</th>\n",
       "      <td>Alabama</td>\n",
       "      <td>2020-01</td>\n",
       "      <td>0.98</td>\n",
       "      <td>22069.0</td>\n",
       "    </tr>\n",
       "    <tr>\n",
       "      <th>1</th>\n",
       "      <td>Alabama</td>\n",
       "      <td>2020-02</td>\n",
       "      <td>0.85</td>\n",
       "      <td>18203.0</td>\n",
       "    </tr>\n",
       "    <tr>\n",
       "      <th>2</th>\n",
       "      <td>Alabama</td>\n",
       "      <td>2020-03</td>\n",
       "      <td>0.74</td>\n",
       "      <td>38164.0</td>\n",
       "    </tr>\n",
       "    <tr>\n",
       "      <th>3</th>\n",
       "      <td>Alabama</td>\n",
       "      <td>2020-04</td>\n",
       "      <td>6.04</td>\n",
       "      <td>197834.0</td>\n",
       "    </tr>\n",
       "    <tr>\n",
       "      <th>4</th>\n",
       "      <td>Alabama</td>\n",
       "      <td>2020-05</td>\n",
       "      <td>10.46</td>\n",
       "      <td>227808.0</td>\n",
       "    </tr>\n",
       "  </tbody>\n",
       "</table>\n",
       "</div>"
      ],
      "text/plain": [
       "     State Filed week ended  Insured Unemployment Rate    Claims\n",
       "0  Alabama          2020-01                       0.98   22069.0\n",
       "1  Alabama          2020-02                       0.85   18203.0\n",
       "2  Alabama          2020-03                       0.74   38164.0\n",
       "3  Alabama          2020-04                       6.04  197834.0\n",
       "4  Alabama          2020-05                      10.46  227808.0"
      ]
     },
     "execution_count": 28,
     "metadata": {},
     "output_type": "execute_result"
    }
   ],
   "source": [
    "df_unemploy.head()"
   ]
  },
  {
   "cell_type": "code",
   "execution_count": 29,
   "metadata": {},
   "outputs": [],
   "source": [
    "df_unemploy=df_unemploy.rename(columns={\"State\": \"State\", \"Filed week ended\": \"Date\",\"Insured Unemployment Rate\": \"Monthly Unemployment Rate\",\"Claims\": \"Monthly Unemployment Issurance Claims\" })"
   ]
  },
  {
   "cell_type": "code",
   "execution_count": 30,
   "metadata": {},
   "outputs": [
    {
     "data": {
      "text/html": [
       "<div>\n",
       "<style scoped>\n",
       "    .dataframe tbody tr th:only-of-type {\n",
       "        vertical-align: middle;\n",
       "    }\n",
       "\n",
       "    .dataframe tbody tr th {\n",
       "        vertical-align: top;\n",
       "    }\n",
       "\n",
       "    .dataframe thead th {\n",
       "        text-align: right;\n",
       "    }\n",
       "</style>\n",
       "<table border=\"1\" class=\"dataframe\">\n",
       "  <thead>\n",
       "    <tr style=\"text-align: right;\">\n",
       "      <th></th>\n",
       "      <th>State</th>\n",
       "      <th>Date</th>\n",
       "      <th>Monthly Unemployment Rate</th>\n",
       "      <th>Monthly Unemployment Issurance Claims</th>\n",
       "    </tr>\n",
       "  </thead>\n",
       "  <tbody>\n",
       "    <tr>\n",
       "      <th>0</th>\n",
       "      <td>Alabama</td>\n",
       "      <td>2020-01</td>\n",
       "      <td>0.98</td>\n",
       "      <td>22069.0</td>\n",
       "    </tr>\n",
       "    <tr>\n",
       "      <th>1</th>\n",
       "      <td>Alabama</td>\n",
       "      <td>2020-02</td>\n",
       "      <td>0.85</td>\n",
       "      <td>18203.0</td>\n",
       "    </tr>\n",
       "    <tr>\n",
       "      <th>2</th>\n",
       "      <td>Alabama</td>\n",
       "      <td>2020-03</td>\n",
       "      <td>0.74</td>\n",
       "      <td>38164.0</td>\n",
       "    </tr>\n",
       "    <tr>\n",
       "      <th>3</th>\n",
       "      <td>Alabama</td>\n",
       "      <td>2020-04</td>\n",
       "      <td>6.04</td>\n",
       "      <td>197834.0</td>\n",
       "    </tr>\n",
       "    <tr>\n",
       "      <th>4</th>\n",
       "      <td>Alabama</td>\n",
       "      <td>2020-05</td>\n",
       "      <td>10.46</td>\n",
       "      <td>227808.0</td>\n",
       "    </tr>\n",
       "  </tbody>\n",
       "</table>\n",
       "</div>"
      ],
      "text/plain": [
       "     State     Date  Monthly Unemployment Rate  \\\n",
       "0  Alabama  2020-01                       0.98   \n",
       "1  Alabama  2020-02                       0.85   \n",
       "2  Alabama  2020-03                       0.74   \n",
       "3  Alabama  2020-04                       6.04   \n",
       "4  Alabama  2020-05                      10.46   \n",
       "\n",
       "   Monthly Unemployment Issurance Claims  \n",
       "0                                22069.0  \n",
       "1                                18203.0  \n",
       "2                                38164.0  \n",
       "3                               197834.0  \n",
       "4                               227808.0  "
      ]
     },
     "execution_count": 30,
     "metadata": {},
     "output_type": "execute_result"
    }
   ],
   "source": [
    "df_unemploy.head()"
   ]
  },
  {
   "cell_type": "code",
   "execution_count": 31,
   "metadata": {},
   "outputs": [
    {
     "data": {
      "text/html": [
       "<div id=\"observablehq-legend1-830ca84c\"></div>\n",
       "<div id=\"observablehq-chart1-830ca84c\"></div>\n",
       "<p>Credit: <a href=\"https://observablehq.com/d/f2a8009611526bab\">umeployment by Jeff Pan</a></p>\n",
       "\n",
       "<script type=\"module\">\n",
       "import {Runtime, Inspector} from \"https://cdn.jsdelivr.net/npm/@observablehq/runtime@4/dist/runtime.js\";\n",
       "import define from \"https://api.observablehq.com/d/f2a8009611526bab.js?v=3\";\n",
       "new Runtime().module(define, name => {\n",
       "  if (name === \"legend1\") return new Inspector(document.querySelector(\"#observablehq-legend1-830ca84c\"));\n",
       "  if (name === \"chart1\") return new Inspector(document.querySelector(\"#observablehq-chart1-830ca84c\"));\n",
       "});\n",
       "</script>\n"
      ],
      "text/plain": [
       "<IPython.core.display.HTML object>"
      ]
     },
     "metadata": {},
     "output_type": "display_data"
    }
   ],
   "source": [
    "embed = \"\"\"<div id=\"observablehq-legend1-830ca84c\"></div>\n",
    "<div id=\"observablehq-chart1-830ca84c\"></div>\n",
    "<p>Credit: <a href=\"https://observablehq.com/d/f2a8009611526bab\">umeployment by Jeff Pan</a></p>\n",
    "\n",
    "<script type=\"module\">\n",
    "import {Runtime, Inspector} from \"https://cdn.jsdelivr.net/npm/@observablehq/runtime@4/dist/runtime.js\";\n",
    "import define from \"https://api.observablehq.com/d/f2a8009611526bab.js?v=3\";\n",
    "new Runtime().module(define, name => {\n",
    "  if (name === \"legend1\") return new Inspector(document.querySelector(\"#observablehq-legend1-830ca84c\"));\n",
    "  if (name === \"chart1\") return new Inspector(document.querySelector(\"#observablehq-chart1-830ca84c\"));\n",
    "});\n",
    "</script>\n",
    "\"\"\"\n",
    "display(HTML(embed))"
   ]
  },
  {
   "cell_type": "code",
   "execution_count": 32,
   "metadata": {},
   "outputs": [
    {
     "data": {
      "text/html": [
       "<div id=\"observablehq-legend2-36d89b4c\"></div>\n",
       "<div id=\"observablehq-chart2-36d89b4c\"></div>\n",
       "<p>Credit: <a href=\"https://observablehq.com/d/f2a8009611526bab\">umeployment by Jeff Pan</a></p>\n",
       "\n",
       "<script type=\"module\">\n",
       "import {Runtime, Inspector} from \"https://cdn.jsdelivr.net/npm/@observablehq/runtime@4/dist/runtime.js\";\n",
       "import define from \"https://api.observablehq.com/d/f2a8009611526bab.js?v=3\";\n",
       "new Runtime().module(define, name => {\n",
       "  if (name === \"legend2\") return new Inspector(document.querySelector(\"#observablehq-legend2-36d89b4c\"));\n",
       "  if (name === \"chart2\") return new Inspector(document.querySelector(\"#observablehq-chart2-36d89b4c\"));\n",
       "});\n",
       "</script>\n"
      ],
      "text/plain": [
       "<IPython.core.display.HTML object>"
      ]
     },
     "metadata": {},
     "output_type": "display_data"
    }
   ],
   "source": [
    "embed2 = \"\"\"<div id=\"observablehq-legend2-36d89b4c\"></div>\n",
    "<div id=\"observablehq-chart2-36d89b4c\"></div>\n",
    "<p>Credit: <a href=\"https://observablehq.com/d/f2a8009611526bab\">umeployment by Jeff Pan</a></p>\n",
    "\n",
    "<script type=\"module\">\n",
    "import {Runtime, Inspector} from \"https://cdn.jsdelivr.net/npm/@observablehq/runtime@4/dist/runtime.js\";\n",
    "import define from \"https://api.observablehq.com/d/f2a8009611526bab.js?v=3\";\n",
    "new Runtime().module(define, name => {\n",
    "  if (name === \"legend2\") return new Inspector(document.querySelector(\"#observablehq-legend2-36d89b4c\"));\n",
    "  if (name === \"chart2\") return new Inspector(document.querySelector(\"#observablehq-chart2-36d89b4c\"));\n",
    "});\n",
    "</script>\n",
    "\"\"\"\n",
    "display(HTML(embed2))"
   ]
  },
  {
   "cell_type": "markdown",
   "metadata": {},
   "source": [
    "#### Stock Data"
   ]
  },
  {
   "cell_type": "code",
   "execution_count": 33,
   "metadata": {},
   "outputs": [],
   "source": [
    "df_DOW[\"DATE\"] = pd.to_datetime(df_DOW[\"DATE\"], format=\"%Y-%m-%d\")\n",
    "df_NASDAQ[\"DATE\"] = pd.to_datetime(df_NASDAQ[\"DATE\"], format=\"%Y-%m-%d\")\n",
    "df_SP500[\"DATE\"] = pd.to_datetime(df_SP500[\"DATE\"], format=\"%Y-%m-%d\")"
   ]
  },
  {
   "cell_type": "code",
   "execution_count": 34,
   "metadata": {},
   "outputs": [],
   "source": [
    "## remove holiday stock data -> no-value\n",
    "df_DOW = df_DOW[df_DOW[\"DJIA\"]!=\".\"]\n",
    "df_NASDAQ = df_NASDAQ[df_NASDAQ[\"NASDAQCOM\"]!=\".\"]\n",
    "df_SP500 = df_SP500[df_SP500[\"SP500\"]!=\".\"]\n",
    "\n",
    "\n",
    "## shrink stock data within 3 years\n",
    "df_DOW = df_DOW[df_DOW.DATE.dt.year>=2019]\n",
    "df_NASDAQ = df_NASDAQ[df_NASDAQ.DATE.dt.year>=2019]\n",
    "df_SP500 = df_SP500[df_SP500.DATE.dt.year>=2019]"
   ]
  },
  {
   "cell_type": "code",
   "execution_count": 35,
   "metadata": {},
   "outputs": [],
   "source": [
    "df_DOW[\"DJIA\"] = pd.to_numeric(df_DOW[\"DJIA\"])\n",
    "df_NASDAQ[\"NASDAQCOM\"] = pd.to_numeric(df_NASDAQ[\"NASDAQCOM\"])\n",
    "df_SP500[\"SP500\"] = pd.to_numeric(df_SP500[\"SP500\"])"
   ]
  },
  {
   "cell_type": "markdown",
   "metadata": {},
   "source": [
    "### Analytics - Stock Price Plot"
   ]
  },
  {
   "cell_type": "markdown",
   "metadata": {},
   "source": [
    "#### 1. DOW"
   ]
  },
  {
   "cell_type": "code",
   "execution_count": 36,
   "metadata": {},
   "outputs": [
    {
     "data": {
      "text/plain": [
       "<AxesSubplot:xlabel='DATE', ylabel='DJIA'>"
      ]
     },
     "execution_count": 36,
     "metadata": {},
     "output_type": "execute_result"
    },
    {
     "data": {
      "image/png": "[encoded data removed]",
      "text/plain": [
       "<Figure size 576x360 with 1 Axes>"
      ]
     },
     "metadata": {
      "needs_background": "light"
     },
     "output_type": "display_data"
    }
   ],
   "source": [
    "fig, ax4 = plt.subplots(figsize=(8,5))\n",
    "sns.lineplot(x = \"DATE\", y=\"DJIA\", data=df_DOW, ax = ax4)"
   ]
  },
  {
   "cell_type": "markdown",
   "metadata": {},
   "source": [
    "#### 2.NASDAQ"
   ]
  },
  {
   "cell_type": "code",
   "execution_count": 37,
   "metadata": {},
   "outputs": [
    {
     "data": {
      "text/plain": [
       "<AxesSubplot:xlabel='DATE', ylabel='NASDAQCOM'>"
      ]
     },
     "execution_count": 37,
     "metadata": {},
     "output_type": "execute_result"
    },
    {
     "data": {
      "image/png": "[encoded data removed]",
      "text/plain": [
       "<Figure size 576x360 with 1 Axes>"
      ]
     },
     "metadata": {
      "needs_background": "light"
     },
     "output_type": "display_data"
    }
   ],
   "source": [
    "fig, ax5 = plt.subplots(figsize=(8,5))\n",
    "sns.lineplot(x = \"DATE\", y=\"NASDAQCOM\", data=df_NASDAQ, ax=ax5)"
   ]
  },
  {
   "cell_type": "markdown",
   "metadata": {},
   "source": [
    "#### 3. SP500"
   ]
  },
  {
   "cell_type": "code",
   "execution_count": 38,
   "metadata": {},
   "outputs": [
    {
     "data": {
      "text/plain": [
       "<AxesSubplot:xlabel='DATE', ylabel='SP500'>"
      ]
     },
     "execution_count": 38,
     "metadata": {},
     "output_type": "execute_result"
    },
    {
     "data": {
      "image/png": "[encoded data removed]",
      "text/plain": [
       "<Figure size 576x360 with 1 Axes>"
      ]
     },
     "metadata": {
      "needs_background": "light"
     },
     "output_type": "display_data"
    }
   ],
   "source": [
    "fig, ax6 = plt.subplots(figsize=(8,5))\n",
    "sns.lineplot(x = \"DATE\", y=\"SP500\", data=df_SP500, ax=ax6)"
   ]
  },
  {
   "cell_type": "markdown",
   "metadata": {},
   "source": [
    "### House price Analytics - ASPUS - quarter/year"
   ]
  },
  {
   "cell_type": "code",
   "execution_count": 39,
   "metadata": {},
   "outputs": [],
   "source": [
    "df_house_price = pd.read_excel(path + \"HousePrice.xls\")\n",
    "df_house_price = df_house_price[df_house_price.observation_date.dt.year>=2019].reset_index(drop=True)"
   ]
  },
  {
   "cell_type": "code",
   "execution_count": 40,
   "metadata": {},
   "outputs": [
    {
     "data": {
      "text/plain": [
       "<AxesSubplot:xlabel='observation_date', ylabel='ASPUS'>"
      ]
     },
     "execution_count": 40,
     "metadata": {},
     "output_type": "execute_result"
    },
    {
     "data": {
      "image/png": "[encoded data removed]",
      "text/plain": [
       "<Figure size 720x360 with 1 Axes>"
      ]
     },
     "metadata": {
      "needs_background": "light"
     },
     "output_type": "display_data"
    }
   ],
   "source": [
    "fig, ax8 = plt.subplots(figsize=(10,5))\n",
    "sns.lineplot(x=\"observation_date\", y=\"ASPUS\", data=df_house_price)"
   ]
  },
  {
   "cell_type": "markdown",
   "metadata": {},
   "source": [
    "### Mortgage Analytics - quarter/year"
   ]
  },
  {
   "cell_type": "code",
   "execution_count": 41,
   "metadata": {},
   "outputs": [],
   "source": [
    "df_mortgage = pd.read_excel(path + \"MORTGAGE30US.xls\")\n",
    "df_mortgage = df_mortgage[df_mortgage.observation_date.dt.year>=2019].reset_index(drop=True)"
   ]
  },
  {
   "cell_type": "code",
   "execution_count": 42,
   "metadata": {},
   "outputs": [],
   "source": [
    "df_mortgage[\"observation_date\"] = pd.to_datetime(df_mortgage['observation_date'], format = '%Y-%m-%d')"
   ]
  },
  {
   "cell_type": "code",
   "execution_count": 43,
   "metadata": {},
   "outputs": [
    {
     "data": {
      "text/plain": [
       "<AxesSubplot:xlabel='observation_date', ylabel='MORTGAGE30US'>"
      ]
     },
     "execution_count": 43,
     "metadata": {},
     "output_type": "execute_result"
    },
    {
     "data": {
      "image/png": "[encoded data removed]",
      "text/plain": [
       "<Figure size 720x360 with 1 Axes>"
      ]
     },
     "metadata": {
      "needs_background": "light"
     },
     "output_type": "display_data"
    }
   ],
   "source": [
    "fig, ax9 = plt.subplots(figsize=(10,5))\n",
    "sns.lineplot(x=\"observation_date\", y=\"MORTGAGE30US\", data=df_mortgage)"
   ]
  },
  {
   "cell_type": "code",
   "execution_count": 44,
   "metadata": {},
   "outputs": [
    {
     "data": {
      "text/plain": [
       "<AxesSubplot:xlabel='observation_date'>"
      ]
     },
     "execution_count": 44,
     "metadata": {},
     "output_type": "execute_result"
    },
    {
     "data": {
      "image/png": "[encoded data removed]",
      "text/plain": [
       "<Figure size 432x288 with 1 Axes>"
      ]
     },
     "metadata": {
      "needs_background": "light"
     },
     "output_type": "display_data"
    }
   ],
   "source": [
    "df_mortgage.set_index('observation_date', inplace=True)\n",
    "df_mortgage.resample('1M').mean()['MORTGAGE30US'].plot()"
   ]
  },
  {
   "cell_type": "markdown",
   "metadata": {},
   "source": [
    "#### Personal Income Analytics"
   ]
  },
  {
   "cell_type": "markdown",
   "metadata": {},
   "source": [
    "##\n",
    "\n",
    "df_personal_income = pd.read_excel(path + \"PI.xls\")\n",
    "df_personal_income_simple = df_personal_income[df_personal_income.observation_date.dt.year>=2019]"
   ]
  },
  {
   "cell_type": "code",
   "execution_count": null,
   "metadata": {},
   "outputs": [],
   "source": [
    "df_personal_income_simple.dtypes"
   ]
  },
  {
   "cell_type": "code",
   "execution_count": null,
   "metadata": {},
   "outputs": [],
   "source": [
    "fig, ax10 = plt.subplots(figsize=(10,5))\n",
    "sns.lineplot(x=\"observation_date\", y=\"PI\", data=df_personal_income_simple)"
   ]
  },
  {
   "cell_type": "code",
   "execution_count": null,
   "metadata": {},
   "outputs": [],
   "source": []
  }
 ],
 "metadata": {
  "kernelspec": {
   "display_name": "Python 3",
   "language": "python",
   "name": "python3"
  },
  "language_info": {
   "codemirror_mode": {
    "name": "ipython",
    "version": 3
   },
   "file_extension": ".py",
   "mimetype": "text/x-python",
   "name": "python",
   "nbconvert_exporter": "python",
   "pygments_lexer": "ipython3",
   "version": "3.7.7"
  }
 },
 "nbformat": 4,
 "nbformat_minor": 2
}
