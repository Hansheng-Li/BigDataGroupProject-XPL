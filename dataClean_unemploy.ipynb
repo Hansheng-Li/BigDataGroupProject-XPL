{
 "cells": [
  {
   "cell_type": "code",
   "execution_count": 3,
   "id": "atomic-belfast",
   "metadata": {},
   "outputs": [],
   "source": [
    "import pandas as pd\n",
    "import os"
   ]
  },
  {
   "cell_type": "code",
   "execution_count": 5,
   "id": "random-martial",
   "metadata": {},
   "outputs": [
    {
     "name": "stdout",
     "output_type": "stream",
     "text": [
      "/mnt/e/Desktop/jupyter/ipython-in-depth/BigDataProject\n"
     ]
    },
    {
     "data": {
      "text/html": [
       "<div>\n",
       "<style scoped>\n",
       "    .dataframe tbody tr th:only-of-type {\n",
       "        vertical-align: middle;\n",
       "    }\n",
       "\n",
       "    .dataframe tbody tr th {\n",
       "        vertical-align: top;\n",
       "    }\n",
       "\n",
       "    .dataframe thead th {\n",
       "        text-align: right;\n",
       "    }\n",
       "</style>\n",
       "<table border=\"1\" class=\"dataframe\">\n",
       "  <thead>\n",
       "    <tr style=\"text-align: right;\">\n",
       "      <th></th>\n",
       "      <th>State</th>\n",
       "      <th>Filed week ended</th>\n",
       "      <th>Initial Claims</th>\n",
       "      <th>Reflecting Week Ended</th>\n",
       "      <th>Continued Claims</th>\n",
       "      <th>Covered Employment</th>\n",
       "      <th>Insured Unemployment Rate</th>\n",
       "    </tr>\n",
       "  </thead>\n",
       "  <tbody>\n",
       "    <tr>\n",
       "      <th>0</th>\n",
       "      <td>Alabama</td>\n",
       "      <td>1/4/20</td>\n",
       "      <td>4,578</td>\n",
       "      <td>12/28/19</td>\n",
       "      <td>18,523</td>\n",
       "      <td>1,923,741</td>\n",
       "      <td>0.96</td>\n",
       "    </tr>\n",
       "    <tr>\n",
       "      <th>1</th>\n",
       "      <td>Alabama</td>\n",
       "      <td>1/11/20</td>\n",
       "      <td>3,629</td>\n",
       "      <td>1/4/20</td>\n",
       "      <td>21,143</td>\n",
       "      <td>1,923,741</td>\n",
       "      <td>1.10</td>\n",
       "    </tr>\n",
       "    <tr>\n",
       "      <th>2</th>\n",
       "      <td>Alabama</td>\n",
       "      <td>1/18/20</td>\n",
       "      <td>2,483</td>\n",
       "      <td>1/11/20</td>\n",
       "      <td>17,402</td>\n",
       "      <td>1,923,741</td>\n",
       "      <td>0.90</td>\n",
       "    </tr>\n",
       "    <tr>\n",
       "      <th>3</th>\n",
       "      <td>Alabama</td>\n",
       "      <td>1/25/20</td>\n",
       "      <td>2,129</td>\n",
       "      <td>1/18/20</td>\n",
       "      <td>18,390</td>\n",
       "      <td>1,923,741</td>\n",
       "      <td>0.96</td>\n",
       "    </tr>\n",
       "    <tr>\n",
       "      <th>4</th>\n",
       "      <td>Alabama</td>\n",
       "      <td>2/1/20</td>\n",
       "      <td>2,170</td>\n",
       "      <td>1/25/20</td>\n",
       "      <td>17,284</td>\n",
       "      <td>1,923,741</td>\n",
       "      <td>0.90</td>\n",
       "    </tr>\n",
       "  </tbody>\n",
       "</table>\n",
       "</div>"
      ],
      "text/plain": [
       "     State Filed week ended Initial Claims Reflecting Week Ended  \\\n",
       "0  Alabama           1/4/20          4,578              12/28/19   \n",
       "1  Alabama          1/11/20          3,629                1/4/20   \n",
       "2  Alabama          1/18/20          2,483               1/11/20   \n",
       "3  Alabama          1/25/20          2,129               1/18/20   \n",
       "4  Alabama           2/1/20          2,170               1/25/20   \n",
       "\n",
       "  Continued Claims Covered Employment  Insured Unemployment Rate  \n",
       "0           18,523          1,923,741                       0.96  \n",
       "1           21,143          1,923,741                       1.10  \n",
       "2           17,402          1,923,741                       0.90  \n",
       "3           18,390          1,923,741                       0.96  \n",
       "4           17,284          1,923,741                       0.90  "
      ]
     },
     "execution_count": 5,
     "metadata": {},
     "output_type": "execute_result"
    }
   ],
   "source": [
    "#print out first 5 rows of data to get idea of content\n",
    "print(os.getcwd())\n",
    "df = pd.read_csv(os.getcwd()+ '/rawData/unemploy.csv')\n",
    "df.head()"
   ]
  },
  {
   "cell_type": "markdown",
   "id": "associate-legislature",
   "metadata": {},
   "source": [
    "### Unemploy\n",
    "\n",
    "This is a dataset for unemploy in each state of United States"
   ]
  },
  {
   "cell_type": "code",
   "execution_count": 18,
   "id": "alone-customer",
   "metadata": {
    "scrolled": true
   },
   "outputs": [
    {
     "name": "stdout",
     "output_type": "stream",
     "text": [
      "Python version\n",
      "3.8.2 (default, Apr 27 2020, 15:53:34) \n",
      "[GCC 9.3.0]\n",
      "Version info.\n",
      "sys.version_info(major=3, minor=8, micro=2, releaselevel='final', serial=0)\n"
     ]
    }
   ],
   "source": [
    "import sys\n",
    "print(\"Python version\")\n",
    "print (sys.version)\n",
    "print(\"Version info.\")\n",
    "print (sys.version_info)"
   ]
  },
  {
   "cell_type": "code",
   "execution_count": 20,
   "id": "unlimited-soccer",
   "metadata": {
    "scrolled": true
   },
   "outputs": [
    {
     "name": "stdout",
     "output_type": "stream",
     "text": [
      "Defaulting to user installation because normal site-packages is not writeable\n",
      "Requirement already satisfied: numpy in /home/lhs/.local/lib/python3.8/site-packages (1.20.2)\n"
     ]
    }
   ],
   "source": [
    "import sys\n",
    "!{sys.executable} -m pip install numpy"
   ]
  },
  {
   "cell_type": "code",
   "execution_count": 25,
   "id": "damaged-effectiveness",
   "metadata": {},
   "outputs": [],
   "source": [
    "#use of openclean's stream operator to avoid having to load the dataset into main-memory\n",
    "\n",
    "from openclean.pipeline import stream\n",
    "\n",
    "ds = stream(df)"
   ]
  },
  {
   "cell_type": "code",
   "execution_count": 26,
   "id": "intelligent-mathematics",
   "metadata": {},
   "outputs": [],
   "source": [
    "# Profile using the default data profiler.\n",
    "\n",
    "from openclean.profiling.column import DefaultColumnProfiler\n",
    "profiles = ds.profile(default_profiler=DefaultColumnProfiler)"
   ]
  },
  {
   "cell_type": "code",
   "execution_count": 27,
   "id": "aware-rough",
   "metadata": {},
   "outputs": [
    {
     "data": {
      "text/html": [
       "<div>\n",
       "<style scoped>\n",
       "    .dataframe tbody tr th:only-of-type {\n",
       "        vertical-align: middle;\n",
       "    }\n",
       "\n",
       "    .dataframe tbody tr th {\n",
       "        vertical-align: top;\n",
       "    }\n",
       "\n",
       "    .dataframe thead th {\n",
       "        text-align: right;\n",
       "    }\n",
       "</style>\n",
       "<table border=\"1\" class=\"dataframe\">\n",
       "  <thead>\n",
       "    <tr style=\"text-align: right;\">\n",
       "      <th></th>\n",
       "      <th>total</th>\n",
       "      <th>empty</th>\n",
       "      <th>distinct</th>\n",
       "      <th>uniqueness</th>\n",
       "      <th>entropy</th>\n",
       "    </tr>\n",
       "  </thead>\n",
       "  <tbody>\n",
       "    <tr>\n",
       "      <th>State</th>\n",
       "      <td>3341</td>\n",
       "      <td>0</td>\n",
       "      <td>55</td>\n",
       "      <td>0.016462</td>\n",
       "      <td>5.732362</td>\n",
       "    </tr>\n",
       "    <tr>\n",
       "      <th>Filed week ended</th>\n",
       "      <td>3341</td>\n",
       "      <td>0</td>\n",
       "      <td>64</td>\n",
       "      <td>0.019156</td>\n",
       "      <td>5.980974</td>\n",
       "    </tr>\n",
       "    <tr>\n",
       "      <th>Initial Claims</th>\n",
       "      <td>3341</td>\n",
       "      <td>0</td>\n",
       "      <td>3132</td>\n",
       "      <td>0.937444</td>\n",
       "      <td>11.576885</td>\n",
       "    </tr>\n",
       "    <tr>\n",
       "      <th>Reflecting Week Ended</th>\n",
       "      <td>3341</td>\n",
       "      <td>0</td>\n",
       "      <td>64</td>\n",
       "      <td>0.019156</td>\n",
       "      <td>5.980974</td>\n",
       "    </tr>\n",
       "    <tr>\n",
       "      <th>Continued Claims</th>\n",
       "      <td>3341</td>\n",
       "      <td>0</td>\n",
       "      <td>3319</td>\n",
       "      <td>0.993415</td>\n",
       "      <td>11.692895</td>\n",
       "    </tr>\n",
       "    <tr>\n",
       "      <th>Covered Employment</th>\n",
       "      <td>3341</td>\n",
       "      <td>0</td>\n",
       "      <td>321</td>\n",
       "      <td>0.096079</td>\n",
       "      <td>8.134613</td>\n",
       "    </tr>\n",
       "    <tr>\n",
       "      <th>Insured Unemployment Rate</th>\n",
       "      <td>3341</td>\n",
       "      <td>0</td>\n",
       "      <td>1324</td>\n",
       "      <td>0.396289</td>\n",
       "      <td>10.018963</td>\n",
       "    </tr>\n",
       "  </tbody>\n",
       "</table>\n",
       "</div>"
      ],
      "text/plain": [
       "                           total  empty  distinct  uniqueness    entropy\n",
       "State                       3341      0        55    0.016462   5.732362\n",
       "Filed week ended            3341      0        64    0.019156   5.980974\n",
       "Initial Claims              3341      0      3132    0.937444  11.576885\n",
       "Reflecting Week Ended       3341      0        64    0.019156   5.980974\n",
       "Continued Claims            3341      0      3319    0.993415  11.692895\n",
       "Covered Employment          3341      0       321    0.096079   8.134613\n",
       "Insured Unemployment Rate   3341      0      1324    0.396289  10.018963"
      ]
     },
     "execution_count": 27,
     "metadata": {},
     "output_type": "execute_result"
    }
   ],
   "source": [
    "#overview of profiling results.\n",
    "\n",
    "profiles.stats()"
   ]
  },
  {
   "cell_type": "code",
   "execution_count": 29,
   "id": "theoretical-detroit",
   "metadata": {},
   "outputs": [
    {
     "data": {
      "text/plain": [
       "array(['Alabama', 'Alaska', 'Arkansas', 'Arizona', 'California',\n",
       "       'Colorado', 'Connecticut', 'Delaware', 'District of Columbia',\n",
       "       'Florida', 'Georgia', 'Hawaii', 'Idaho', 'Illinois', 'Indiana',\n",
       "       'Iowa', 'Kansas', 'Kentucky', 'Louisiana', 'Maine', 'Maryland',\n",
       "       'Massachusetts', 'Michigan', 'Minnesota', 'Mississippi',\n",
       "       'Missouri', 'Montana', 'North Carolina', 'North Dakota',\n",
       "       'Nebraska', 'New Hampshire', 'New Jersey', 'New Mexico', 'Nevada',\n",
       "       'New York', 'Ohio', 'Oklahoma', 'Oregon', 'Pennsylvania',\n",
       "       'Puerto Rico', 'Rhode Island', 'South Carolina', 'South Dakota',\n",
       "       'Tennessee', 'Texas', 'Utah', 'Vermont', 'Virgin Islands',\n",
       "       'Virginia', 'Washington', 'West Virginia', 'Wisconsin', 'Wyoming',\n",
       "       nan, 'Run Date: 3/30/2021'], dtype=object)"
      ]
     },
     "execution_count": 29,
     "metadata": {},
     "output_type": "execute_result"
    }
   ],
   "source": [
    "df.State.unique()"
   ]
  },
  {
   "cell_type": "code",
   "execution_count": 30,
   "id": "protected-graduate",
   "metadata": {},
   "outputs": [
    {
     "data": {
      "text/plain": [
       "numpy.ndarray"
      ]
     },
     "execution_count": 30,
     "metadata": {},
     "output_type": "execute_result"
    }
   ],
   "source": [
    "type(df.State.unique())"
   ]
  },
  {
   "cell_type": "code",
   "execution_count": 31,
   "id": "prepared-forwarding",
   "metadata": {},
   "outputs": [
    {
     "name": "stdout",
     "output_type": "stream",
     "text": [
      "55\n"
     ]
    }
   ],
   "source": [
    "print(df.State.unique().size)"
   ]
  },
  {
   "cell_type": "code",
   "execution_count": 32,
   "id": "level-advantage",
   "metadata": {},
   "outputs": [],
   "source": [
    "stateList = df.State.unique().tolist()"
   ]
  },
  {
   "cell_type": "code",
   "execution_count": 33,
   "id": "personal-defense",
   "metadata": {},
   "outputs": [
    {
     "data": {
      "text/plain": [
       "['Alabama',\n",
       " 'Alaska',\n",
       " 'Arkansas',\n",
       " 'Arizona',\n",
       " 'California',\n",
       " 'Colorado',\n",
       " 'Connecticut',\n",
       " 'Delaware',\n",
       " 'District of Columbia',\n",
       " 'Florida',\n",
       " 'Georgia',\n",
       " 'Hawaii',\n",
       " 'Idaho',\n",
       " 'Illinois',\n",
       " 'Indiana',\n",
       " 'Iowa',\n",
       " 'Kansas',\n",
       " 'Kentucky',\n",
       " 'Louisiana',\n",
       " 'Maine',\n",
       " 'Maryland',\n",
       " 'Massachusetts',\n",
       " 'Michigan',\n",
       " 'Minnesota',\n",
       " 'Mississippi',\n",
       " 'Missouri',\n",
       " 'Montana',\n",
       " 'North Carolina',\n",
       " 'North Dakota',\n",
       " 'Nebraska',\n",
       " 'New Hampshire',\n",
       " 'New Jersey',\n",
       " 'New Mexico',\n",
       " 'Nevada',\n",
       " 'New York',\n",
       " 'Ohio',\n",
       " 'Oklahoma',\n",
       " 'Oregon',\n",
       " 'Pennsylvania',\n",
       " 'Puerto Rico',\n",
       " 'Rhode Island',\n",
       " 'South Carolina',\n",
       " 'South Dakota',\n",
       " 'Tennessee',\n",
       " 'Texas',\n",
       " 'Utah',\n",
       " 'Vermont',\n",
       " 'Virgin Islands',\n",
       " 'Virginia',\n",
       " 'Washington',\n",
       " 'West Virginia',\n",
       " 'Wisconsin',\n",
       " 'Wyoming',\n",
       " nan,\n",
       " 'Run Date: 3/30/2021']"
      ]
     },
     "execution_count": 33,
     "metadata": {},
     "output_type": "execute_result"
    }
   ],
   "source": [
    "stateList"
   ]
  },
  {
   "cell_type": "code",
   "execution_count": 34,
   "id": "bored-palmer",
   "metadata": {},
   "outputs": [
    {
     "data": {
      "text/plain": [
       "'Run Date: 3/30/2021'"
      ]
     },
     "execution_count": 34,
     "metadata": {},
     "output_type": "execute_result"
    }
   ],
   "source": [
    "stateList[-1]"
   ]
  },
  {
   "cell_type": "code",
   "execution_count": 35,
   "id": "approximate-belief",
   "metadata": {},
   "outputs": [],
   "source": [
    "stateList = stateList[:-1]"
   ]
  },
  {
   "cell_type": "code",
   "execution_count": 36,
   "id": "existing-bride",
   "metadata": {},
   "outputs": [
    {
     "data": {
      "text/plain": [
       "['Alabama',\n",
       " 'Alaska',\n",
       " 'Arkansas',\n",
       " 'Arizona',\n",
       " 'California',\n",
       " 'Colorado',\n",
       " 'Connecticut',\n",
       " 'Delaware',\n",
       " 'District of Columbia',\n",
       " 'Florida',\n",
       " 'Georgia',\n",
       " 'Hawaii',\n",
       " 'Idaho',\n",
       " 'Illinois',\n",
       " 'Indiana',\n",
       " 'Iowa',\n",
       " 'Kansas',\n",
       " 'Kentucky',\n",
       " 'Louisiana',\n",
       " 'Maine',\n",
       " 'Maryland',\n",
       " 'Massachusetts',\n",
       " 'Michigan',\n",
       " 'Minnesota',\n",
       " 'Mississippi',\n",
       " 'Missouri',\n",
       " 'Montana',\n",
       " 'North Carolina',\n",
       " 'North Dakota',\n",
       " 'Nebraska',\n",
       " 'New Hampshire',\n",
       " 'New Jersey',\n",
       " 'New Mexico',\n",
       " 'Nevada',\n",
       " 'New York',\n",
       " 'Ohio',\n",
       " 'Oklahoma',\n",
       " 'Oregon',\n",
       " 'Pennsylvania',\n",
       " 'Puerto Rico',\n",
       " 'Rhode Island',\n",
       " 'South Carolina',\n",
       " 'South Dakota',\n",
       " 'Tennessee',\n",
       " 'Texas',\n",
       " 'Utah',\n",
       " 'Vermont',\n",
       " 'Virgin Islands',\n",
       " 'Virginia',\n",
       " 'Washington',\n",
       " 'West Virginia',\n",
       " 'Wisconsin',\n",
       " 'Wyoming',\n",
       " nan]"
      ]
     },
     "execution_count": 36,
     "metadata": {},
     "output_type": "execute_result"
    }
   ],
   "source": [
    "stateList"
   ]
  },
  {
   "cell_type": "code",
   "execution_count": 37,
   "id": "sensitive-titanium",
   "metadata": {},
   "outputs": [],
   "source": [
    "stateList = stateList[:-1]"
   ]
  },
  {
   "cell_type": "code",
   "execution_count": 38,
   "id": "diagnostic-steel",
   "metadata": {},
   "outputs": [
    {
     "data": {
      "text/plain": [
       "['Alabama',\n",
       " 'Alaska',\n",
       " 'Arkansas',\n",
       " 'Arizona',\n",
       " 'California',\n",
       " 'Colorado',\n",
       " 'Connecticut',\n",
       " 'Delaware',\n",
       " 'District of Columbia',\n",
       " 'Florida',\n",
       " 'Georgia',\n",
       " 'Hawaii',\n",
       " 'Idaho',\n",
       " 'Illinois',\n",
       " 'Indiana',\n",
       " 'Iowa',\n",
       " 'Kansas',\n",
       " 'Kentucky',\n",
       " 'Louisiana',\n",
       " 'Maine',\n",
       " 'Maryland',\n",
       " 'Massachusetts',\n",
       " 'Michigan',\n",
       " 'Minnesota',\n",
       " 'Mississippi',\n",
       " 'Missouri',\n",
       " 'Montana',\n",
       " 'North Carolina',\n",
       " 'North Dakota',\n",
       " 'Nebraska',\n",
       " 'New Hampshire',\n",
       " 'New Jersey',\n",
       " 'New Mexico',\n",
       " 'Nevada',\n",
       " 'New York',\n",
       " 'Ohio',\n",
       " 'Oklahoma',\n",
       " 'Oregon',\n",
       " 'Pennsylvania',\n",
       " 'Puerto Rico',\n",
       " 'Rhode Island',\n",
       " 'South Carolina',\n",
       " 'South Dakota',\n",
       " 'Tennessee',\n",
       " 'Texas',\n",
       " 'Utah',\n",
       " 'Vermont',\n",
       " 'Virgin Islands',\n",
       " 'Virginia',\n",
       " 'Washington',\n",
       " 'West Virginia',\n",
       " 'Wisconsin',\n",
       " 'Wyoming']"
      ]
     },
     "execution_count": 38,
     "metadata": {},
     "output_type": "execute_result"
    }
   ],
   "source": [
    "stateList"
   ]
  },
  {
   "cell_type": "code",
   "execution_count": 43,
   "id": "moderate-matrix",
   "metadata": {},
   "outputs": [
    {
     "data": {
      "text/plain": [
       "53"
      ]
     },
     "execution_count": 43,
     "metadata": {},
     "output_type": "execute_result"
    }
   ],
   "source": [
    "len(stateList)"
   ]
  },
  {
   "cell_type": "markdown",
   "id": "superb-intellectual",
   "metadata": {},
   "source": [
    "Try to find why there are 53 states, normally should be 50."
   ]
  },
  {
   "cell_type": "code",
   "execution_count": 64,
   "id": "normal-thesis",
   "metadata": {},
   "outputs": [
    {
     "data": {
      "text/plain": [
       "50"
      ]
     },
     "execution_count": 64,
     "metadata": {},
     "output_type": "execute_result"
    }
   ],
   "source": [
    "newStates = []\n",
    "with open(os.getcwd()+'/rawData/usStates.txt', 'r', encoding='utf8') as rd:\n",
    "    lines = rd.readlines()\n",
    "    for line in lines:\n",
    "        newStates.append(line.rstrip('\\n'))\n",
    "len(newStates)"
   ]
  },
  {
   "cell_type": "code",
   "execution_count": 62,
   "id": "integrated-account",
   "metadata": {},
   "outputs": [
    {
     "data": {
      "text/plain": [
       "['Alabama',\n",
       " 'Alaska',\n",
       " 'Arizona',\n",
       " 'Arkansas',\n",
       " 'California',\n",
       " 'Colorado',\n",
       " 'Connecticut',\n",
       " 'Delaware',\n",
       " 'Florida',\n",
       " 'Georgia',\n",
       " 'Hawaii',\n",
       " 'Idaho',\n",
       " 'Illinois',\n",
       " 'Indiana',\n",
       " 'Iowa',\n",
       " 'Kansas',\n",
       " 'Kentucky',\n",
       " 'Louisiana',\n",
       " 'Maine',\n",
       " 'Maryland',\n",
       " 'Massachusetts',\n",
       " 'Michigan',\n",
       " 'Minnesota',\n",
       " 'Mississippi',\n",
       " 'Missouri',\n",
       " 'Montana',\n",
       " 'Nebraska',\n",
       " 'Nevada',\n",
       " 'New Hampshire',\n",
       " 'New Jersey',\n",
       " 'New Mexico',\n",
       " 'New York',\n",
       " 'North Carolina',\n",
       " 'North Dakota',\n",
       " 'Ohio',\n",
       " 'Oklahoma',\n",
       " 'Oregon',\n",
       " 'Pennsylvania',\n",
       " 'Rhode Island',\n",
       " 'South Carolina',\n",
       " 'South Dakota',\n",
       " 'Tennessee',\n",
       " 'Texas',\n",
       " 'Utah',\n",
       " 'Vermont',\n",
       " 'Virginia',\n",
       " 'Washington',\n",
       " 'West Virginia',\n",
       " 'Wisconsin',\n",
       " 'Wyoming']"
      ]
     },
     "execution_count": 62,
     "metadata": {},
     "output_type": "execute_result"
    }
   ],
   "source": [
    "newStates"
   ]
  },
  {
   "cell_type": "markdown",
   "id": "invisible-bicycle",
   "metadata": {},
   "source": [
    "### This is how states should be look like, let's do the comparison"
   ]
  },
  {
   "cell_type": "code",
   "execution_count": 63,
   "id": "spread-trader",
   "metadata": {},
   "outputs": [
    {
     "name": "stdout",
     "output_type": "stream",
     "text": [
      "District of Columbia\n",
      "Puerto Rico\n",
      "Virgin Islands\n"
     ]
    }
   ],
   "source": [
    "for s in stateList:\n",
    "    if s not in newStates:\n",
    "        print(s)"
   ]
  },
  {
   "cell_type": "markdown",
   "id": "optimum-error",
   "metadata": {},
   "source": [
    "#### Now we find out there are three place that is not in 50 states, this need to be rember for later join and comparison operation."
   ]
  },
  {
   "cell_type": "code",
   "execution_count": null,
   "id": "three-oklahoma",
   "metadata": {},
   "outputs": [],
   "source": []
  }
 ],
 "metadata": {
  "kernelspec": {
   "display_name": "Python 3",
   "language": "python",
   "name": "python3"
  },
  "language_info": {
   "codemirror_mode": {
    "name": "ipython",
    "version": 3
   },
   "file_extension": ".py",
   "mimetype": "text/x-python",
   "name": "python",
   "nbconvert_exporter": "python",
   "pygments_lexer": "ipython3",
   "version": "3.8.2"
  }
 },
 "nbformat": 4,
 "nbformat_minor": 5
}
